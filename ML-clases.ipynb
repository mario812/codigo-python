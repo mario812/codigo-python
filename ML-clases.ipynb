{
 "cells": [
  {
   "cell_type": "markdown",
   "id": "c0ff0200-deaf-4d9f-b046-b1ea57381b02",
   "metadata": {},
   "source": [
    "<h1> Objetos y  clases </h1>"
   ]
  },
  {
   "cell_type": "markdown",
   "id": "98fa881c-adcd-41ae-9b3a-c1192420a8e8",
   "metadata": {},
   "source": [
    "Python tiene diferentes tipos de tipos de datos: interos, flotantes, cadenas, <br>\n",
    "tuplas, listas, diccionarios, booleanos. <br>\n",
    "Cada uno de ellos coresponde a un **objeto**"
   ]
  },
  {
   "cell_type": "markdown",
   "id": "4e2a69f3-a275-498e-86f9-3c4d765489c9",
   "metadata": {},
   "source": [
    "<h3>1. Cada objeto tiene:</h3><br>\n",
    "+ Un tipo <br>\n",
    "+ Una representación interna de datos (blueprint)<br>\n",
    "+ Un conjunto de procedimientos que interactuan con el objeto (**métodos**)<br>\n",
    "<h3>2. Cada objeto es una instancia de un tipo particular</h3>"
   ]
  },
  {
   "cell_type": "markdown",
   "id": "601cacc6-b452-4b6f-88b6-2906cb3843d1",
   "metadata": {},
   "source": [
    "Cada vez que creamos un objeto, se crea una instancia del tipo de objeto que estamos creando, p.e.<br>\n",
    "Si creamos objetos del tipo **entero**: a = 1,  b= 25,  c = 379 cada uno de estos objetos es <br>\n",
    "una **instancia** del tipo entero.<br>\n",
    "Similarmente si creamos objetos del tipo **lista**:<br>\n",
    "A = [1, 34, 3] , B = ['a', 34, 9], C = [], G = [False, True, True]<br>\n",
    "Cada una de estas son instancias del tipo lista.<br>\n",
    "Se puede saber el tipo de objeto usando el comando type(), ej:"
   ]
  },
  {
   "cell_type": "code",
   "execution_count": 19,
   "id": "a0a87498-3653-429f-8e96-13521b6f6154",
   "metadata": {},
   "outputs": [
    {
     "data": {
      "text/plain": [
       "int"
      ]
     },
     "execution_count": 19,
     "metadata": {},
     "output_type": "execute_result"
    }
   ],
   "source": [
    "c = 379\n",
    "type(c)"
   ]
  },
  {
   "cell_type": "code",
   "execution_count": 20,
   "id": "7d20d4fb-da4c-47dd-bbc4-fc8a1cc0ad2f",
   "metadata": {},
   "outputs": [
    {
     "data": {
      "text/plain": [
       "list"
      ]
     },
     "execution_count": 20,
     "metadata": {},
     "output_type": "execute_result"
    }
   ],
   "source": [
    "B = ['a', 34, 3.123]\n",
    "type(B)"
   ]
  },
  {
   "cell_type": "markdown",
   "id": "7d978a73-12c0-4e84-a89e-a6d89b7558e6",
   "metadata": {},
   "source": [
    "mas ejemplos, incluyen cadenas y diccionarios:"
   ]
  },
  {
   "cell_type": "code",
   "execution_count": 21,
   "id": "5086192c-2741-41ab-bef1-6564586ff46a",
   "metadata": {},
   "outputs": [
    {
     "data": {
      "text/plain": [
       "str"
      ]
     },
     "execution_count": 21,
     "metadata": {},
     "output_type": "execute_result"
    }
   ],
   "source": [
    "car1 = 'mi nombre es'\n",
    "type(car1)"
   ]
  },
  {
   "cell_type": "code",
   "execution_count": 22,
   "id": "0718ff2e-675b-4516-a6b7-f16ba13aa9b8",
   "metadata": {},
   "outputs": [
    {
     "data": {
      "text/plain": [
       "dict"
      ]
     },
     "execution_count": 22,
     "metadata": {},
     "output_type": "execute_result"
    }
   ],
   "source": [
    "diccio = {'Nombre': 'Luis Toro', 'Teléfono': 4121913127, 'Edad': 72}\n",
    "type(diccio)"
   ]
  },
  {
   "cell_type": "markdown",
   "id": "38d71c7e-6efe-402d-8589-85374f07c2d6",
   "metadata": {},
   "source": [
    "<h3>Métodos</h3><br>\n",
    "+ Los métodos corresponden a una clase y son funciones proporcionadas por cada instancia de esa clase.<br>\n",
    "+ Corresponden a la manera como uno interactúa con los datos dev un objeto. <br>"
   ]
  },
  {
   "cell_type": "code",
   "execution_count": 23,
   "id": "c3872a4f-44f2-4108-8698-591a50251015",
   "metadata": {},
   "outputs": [],
   "source": [
    "# ordenar (sorting) es un ejemplo de como se opera sobre datos de un objeto:\n",
    "# Considere la siguiente lista:\n",
    "valores = [6, 4, 16, 10, 5, 1, 6, 7, 20]\n",
    "valores.sort()"
   ]
  },
  {
   "cell_type": "code",
   "execution_count": 24,
   "id": "32915c23-7517-4a7d-90b7-c6add1837e10",
   "metadata": {},
   "outputs": [
    {
     "data": {
      "text/plain": [
       "[1, 4, 5, 6, 6, 7, 10, 16, 20]"
      ]
     },
     "execution_count": 24,
     "metadata": {},
     "output_type": "execute_result"
    }
   ],
   "source": [
    "valores"
   ]
  },
  {
   "cell_type": "markdown",
   "id": "7547fe0c-fa76-423f-b8cd-19d09a3ccb05",
   "metadata": {},
   "source": [
    "<h3>Clases</h3><br>\n",
    "Podemos crear una  clase que es un tipo de objeto de nuestro interés.<br>\n",
    "Por ejemplo, vamos a crear la clase **Circulo** con 2 atributos: **radio** y **color**"
   ]
  },
  {
   "cell_type": "code",
   "execution_count": 6,
   "id": "ba64801a-4011-4075-a8cc-5ce84e92573a",
   "metadata": {},
   "outputs": [],
   "source": [
    "#como vamos a dibujar unas figuras, es necesario importar las librerías de dibujo\n",
    "import matplotlib.pyplot as plt\n",
    "%matplotlib inline"
   ]
  },
  {
   "cell_type": "code",
   "execution_count": 7,
   "id": "92724e30-48fd-4493-879d-b2c55c6300b0",
   "metadata": {},
   "outputs": [],
   "source": [
    "class circulo(object):\n",
    "    def __init__(self, radio, color): #radio y color son los nombres de atributo del objeto de la clase, yo los escojo.\n",
    "        self.radio=radio\n",
    "        self.color=color\n",
    "    # método\n",
    "    def dibujaCirculo(self): #el nombre del método yo lo escojo\n",
    "        plt.gca().add_patch(plt.Circle((0,0), radius=self.radio, fc=self.color)) #Circle, radius y fc son atributos de la funcion plt\n",
    "        plt.axis('scaled')\n",
    "        plt.show"
   ]
  },
  {
   "cell_type": "markdown",
   "id": "cd3b1801-4ac2-4931-9785-7db87cdb1253",
   "metadata": {},
   "source": [
    "en la declaración anterior se usa un constructor **_init_** y hay que tener en cuenta las siguientes cuestiones:<br>\n",
    "1. despues de **def** está un espacio\n",
    "2. Antes de init están dos (2) pisos (underscore), y después dos también. \n",
    "3. El bloque de código a continuación de la declaración _init_ debe estar indentado, donde cada línea\n",
    "   de código indentada pertenece al bloque.\n",
    "4. El nombre de la clase y los parámetros son de libre escogencia y pueden o no ser inicializados en la declaracion.\n",
    "5. El método asociado a la clase **circulo** debe incluirse en el bloque de declaración de la clase (debe estar indentado)\n",
    "6. El nombre del metodo es de libre escogencia, pero Circle, radius y fc son parámetros del metodo .add_patch(), o sea, no se pueden cambiar.\n",
    "   "
   ]
  },
  {
   "cell_type": "code",
   "execution_count": 5,
   "id": "8a29fb2b-4ee8-4c38-b7dc-fa54c26ff5a6",
   "metadata": {},
   "outputs": [
    {
     "name": "stdout",
     "output_type": "stream",
     "text": [
      "19\n",
      "red\n"
     ]
    }
   ],
   "source": [
    "# ahora vamos a usar la clase, es decir definir un círculo y chequeamos el valor de sus atributos\n",
    "C1 = circulo(19, \"red\")\n",
    "print(C1.radio)\n",
    "print(C1.color)"
   ]
  },
  {
   "cell_type": "code",
   "execution_count": 6,
   "id": "ad26b49a-dbbb-4fe8-9118-d2e4598a3f5f",
   "metadata": {},
   "outputs": [
    {
     "data": {
      "text/plain": [
       "__main__.circulo"
      ]
     },
     "execution_count": 6,
     "metadata": {},
     "output_type": "execute_result"
    }
   ],
   "source": [
    "type(C1) # se puede pedir el tipo de la clase"
   ]
  },
  {
   "cell_type": "markdown",
   "id": "3d2fb260-6626-48c8-9a7f-212106c181f4",
   "metadata": {},
   "source": [
    "Ahora vamos a dibujar el circulo usando el metodo de dibujo creado cuando se construyó la clase:"
   ]
  },
  {
   "cell_type": "code",
   "execution_count": 44,
   "id": "0ebc447c-9e66-4cc6-8c39-a7cd4b373d0d",
   "metadata": {},
   "outputs": [
    {
     "data": {
      "image/png": "[encoded data removed]",
      "text/plain": [
       "<Figure size 640x480 with 1 Axes>"
      ]
     },
     "metadata": {},
     "output_type": "display_data"
    }
   ],
   "source": [
    "C1.dibujaCirculo()"
   ]
  },
  {
   "cell_type": "markdown",
   "id": "c640a648-44a3-43c2-b4f2-76aa08f8cfcd",
   "metadata": {},
   "source": [
    "Ahora vamos a definir una clase **rectangulo**, usando el mismo procedimiento que se usó para la clase círculo.<br>\n",
    "Al mismo tiempo, defino el método para dibujarlo."
   ]
  },
  {
   "cell_type": "code",
   "execution_count": 14,
   "id": "64892cc6-2933-4278-a4f7-346c64d23040",
   "metadata": {},
   "outputs": [],
   "source": [
    "class rectangulo(object):\n",
    "    def __init__(self, ancho, alto, color='green'):\n",
    "        self.ancho= ancho\n",
    "        self.alto = alto\n",
    "        self.color = color\n",
    "    #método\n",
    "    def dibujaRectangulo(self):\n",
    "        plt.gca().add_patch(plt.Rectangle((0,0), width=self.ancho, height=self.alto, fc=self.color))\n",
    "        plt.axis('scaled')\n",
    "        plt.show()"
   ]
  },
  {
   "cell_type": "code",
   "execution_count": 18,
   "id": "43b0fd1c-3b68-4995-94fa-613daed42947",
   "metadata": {},
   "outputs": [],
   "source": [
    "R1 = rectangulo(3,2,'r')"
   ]
  },
  {
   "cell_type": "code",
   "execution_count": 19,
   "id": "4aa9f508-5e8f-4d8c-a8fe-8aa9fe582bc0",
   "metadata": {},
   "outputs": [
    {
     "data": {
      "text/plain": [
       "3"
      ]
     },
     "execution_count": 19,
     "metadata": {},
     "output_type": "execute_result"
    }
   ],
   "source": [
    "R1.ancho"
   ]
  },
  {
   "cell_type": "code",
   "execution_count": 20,
   "id": "9c22d0ed-1d46-46e4-824a-228be5d08907",
   "metadata": {},
   "outputs": [
    {
     "data": {
      "image/png": "[encoded data removed]",
      "text/plain": [
       "<Figure size 640x480 with 1 Axes>"
      ]
     },
     "metadata": {},
     "output_type": "display_data"
    }
   ],
   "source": [
    "R1.dibujaRectangulo()"
   ]
  },
  {
   "cell_type": "code",
   "execution_count": null,
   "id": "6f3d51dd-0e94-40fb-968f-a448903579c6",
   "metadata": {},
   "outputs": [],
   "source": []
  }
 ],
 "metadata": {
  "kernelspec": {
   "display_name": "Python 3 (ipykernel)",
   "language": "python",
   "name": "python3"
  },
  "language_info": {
   "codemirror_mode": {
    "name": "ipython",
    "version": 3
   },
   "file_extension": ".py",
   "mimetype": "text/x-python",
   "name": "python",
   "nbconvert_exporter": "python",
   "pygments_lexer": "ipython3",
   "version": "3.11.5"
  }
 },
 "nbformat": 4,
 "nbformat_minor": 5
}
